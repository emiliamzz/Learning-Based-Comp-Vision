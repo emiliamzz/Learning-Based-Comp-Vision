{
 "cells": [
  {
   "cell_type": "markdown",
   "id": "9035b70252828a64",
   "metadata": {},
   "source": [
    "# Assignment 1\n",
    "Emilia Zielinska <br>\n",
    "300018129 <br>\n",
    "CSI 5341 <br>\n",
    "Dr. Jochen Lang <br>\n",
    "September 28, 2023"
   ]
  },
  {
   "cell_type": "markdown",
   "id": "f42e5c8bddede34a",
   "metadata": {},
   "source": [
    "## Getting Started"
   ]
  },
  {
   "cell_type": "code",
   "execution_count": null,
   "id": "200e4ba6126d71fc",
   "metadata": {},
   "outputs": [],
   "source": [
    "from pathlib import Path"
   ]
  },
  {
   "cell_type": "code",
   "execution_count": null,
   "id": "923124f2c3901dfc",
   "metadata": {},
   "outputs": [],
   "source": [
    "# Generate lists of filenames for the needed images\n",
    "\n",
    "directory_4 = Path(\"./English/Img/GoodImg/Bmp/Sample005\")\n",
    "directory_A = Path(\"./English/Img/GoodImg/Bmp/Sample011\")\n",
    "directory_u = Path(\"./English/Img/GoodImg/Bmp/Sample057\")\n",
    "directory_8 = Path(\"./English/Img/GoodImg/Bmp/Sample009\")\n",
    "\n",
    "file_list_4 = [f for f in directory_4.glob('**/*') if f.is_file()]\n",
    "file_list_A = [f for f in directory_A.glob('**/*') if f.is_file()]\n",
    "file_list_u = [f for f in directory_u.glob('**/*') if f.is_file()]\n",
    "file_list_8 = [f for f in directory_8.glob('**/*') if f.is_file()]"
   ]
  },
  {
   "cell_type": "code",
   "execution_count": null,
   "id": "2503e8dbc967ef5d",
   "metadata": {},
   "outputs": [],
   "source": [
    "import numpy as np\n",
    "from skimage.io import imread\n",
    "from skimage.transform import resize"
   ]
  },
  {
   "cell_type": "code",
   "execution_count": null,
   "id": "78272500d9e59125",
   "metadata": {},
   "outputs": [],
   "source": [
    "# Preprocess each image by turning it grayscale and resizing to 50 by 50\n",
    "# Then save image into numpy matrix // 2D array\n",
    "\n",
    "matrix_4 = []\n",
    "for f in file_list_4:\n",
    "    img = imread(f, True)\n",
    "    img_resized = resize(img, (50, 50))\n",
    "    data = np.array(img_resized)\n",
    "    matrix_4.append(data)\n",
    "\n",
    "matrix_A = []\n",
    "for f in file_list_A:\n",
    "    img = imread(f, True)\n",
    "    img_resized = resize(img, (50, 50))\n",
    "    data = np.array(img_resized)\n",
    "    matrix_A.append(data)\n",
    "\n",
    "matrix_u = []\n",
    "for f in file_list_u:\n",
    "    img = imread(f, True)\n",
    "    img_resized = resize(img, (50, 50))\n",
    "    data = np.array(img_resized)\n",
    "    matrix_u.append(data)\n",
    "\n",
    "matrix_8 = []\n",
    "for f in file_list_8:\n",
    "    img = imread(f, True)\n",
    "    img_resized = resize(img, (50, 50))\n",
    "    data = np.array(img_resized)\n",
    "    matrix_8.append(data)"
   ]
  }
 ],
 "metadata": {
  "kernelspec": {
   "display_name": "Python 3 (ipykernel)",
   "language": "python",
   "name": "python3"
  },
  "language_info": {
   "codemirror_mode": {
    "name": "ipython",
    "version": 3
   },
   "file_extension": ".py",
   "mimetype": "text/x-python",
   "name": "python",
   "nbconvert_exporter": "python",
   "pygments_lexer": "ipython3",
   "version": "3.11.4"
  }
 },
 "nbformat": 4,
 "nbformat_minor": 5
}
