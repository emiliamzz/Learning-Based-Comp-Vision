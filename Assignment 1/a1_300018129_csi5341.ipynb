{
 "cells": [
  {
   "cell_type": "markdown",
   "id": "9035b70252828a64",
   "metadata": {},
   "source": [
    "# Assignment 1\n",
    "Emilia Zielinska <br>\n",
    "300018129 <br>\n",
    "CSI 5341 <br>\n",
    "Dr. Jochen Lang <br>\n",
    "September 28, 2023"
   ]
  },
  {
   "cell_type": "markdown",
   "id": "f42e5c8bddede34a",
   "metadata": {},
   "source": [
    "## Getting Started"
   ]
  },
  {
   "cell_type": "code",
   "execution_count": 1,
   "id": "200e4ba6126d71fc",
   "metadata": {
    "ExecuteTime": {
     "end_time": "2023-09-29T00:07:10.028551Z",
     "start_time": "2023-09-29T00:07:10.023315Z"
    }
   },
   "outputs": [],
   "source": [
    "from pathlib import Path"
   ]
  },
  {
   "cell_type": "code",
   "execution_count": 2,
   "id": "923124f2c3901dfc",
   "metadata": {
    "ExecuteTime": {
     "end_time": "2023-09-29T00:07:10.077884Z",
     "start_time": "2023-09-29T00:07:10.033062Z"
    }
   },
   "outputs": [],
   "source": [
    "# Generate lists of filenames for the needed images\n",
    "\n",
    "directory_4 = Path(\"./English/Img/GoodImg/Bmp/Sample005\")\n",
    "directory_A = Path(\"./English/Img/GoodImg/Bmp/Sample011\")\n",
    "directory_u = Path(\"./English/Img/GoodImg/Bmp/Sample057\")\n",
    "directory_H = Path(\"./English/Img/GoodImg/Bmp/Sample018\")\n",
    "\n",
    "file_list_4 = [f for f in directory_4.glob('**/*') if f.is_file()]\n",
    "file_list_A = [f for f in directory_A.glob('**/*') if f.is_file()]\n",
    "file_list_u = [f for f in directory_u.glob('**/*') if f.is_file()]\n",
    "file_list_H = [f for f in directory_H.glob('**/*') if f.is_file()]"
   ]
  },
  {
   "cell_type": "code",
   "execution_count": 3,
   "id": "2503e8dbc967ef5d",
   "metadata": {
    "ExecuteTime": {
     "end_time": "2023-09-29T00:07:10.492678Z",
     "start_time": "2023-09-29T00:07:10.069625Z"
    }
   },
   "outputs": [],
   "source": [
    "import numpy as np\n",
    "from skimage.io import imread\n",
    "from skimage.transform import resize"
   ]
  },
  {
   "cell_type": "code",
   "execution_count": 4,
   "id": "78272500d9e59125",
   "metadata": {
    "ExecuteTime": {
     "end_time": "2023-09-29T00:07:12.250608Z",
     "start_time": "2023-09-29T00:07:10.499252Z"
    }
   },
   "outputs": [],
   "source": [
    "# Preprocess each image by turning it grayscale and resizing to 50 by 50\n",
    "# Reshape the data of each image to be in a 1D array\n",
    "# Then save image into numpy matrix // 2D array\n",
    "\n",
    "matrix_4 = []\n",
    "for f in file_list_4:\n",
    "    img = imread(f, True)\n",
    "    img_resized = resize(img, (50, 50))\n",
    "    data = np.array(img_resized)\n",
    "    data_reshaped = np.reshape(data, 50*50)\n",
    "    matrix_4.append(data_reshaped)\n",
    "\n",
    "matrix_A = []\n",
    "for f in file_list_A:\n",
    "    img = imread(f, True)\n",
    "    img_resized = resize(img, (50, 50))\n",
    "    data = np.array(img_resized)\n",
    "    data_reshaped = np.reshape(data, 50*50)\n",
    "    matrix_A.append(data_reshaped)\n",
    "\n",
    "matrix_u = []\n",
    "for f in file_list_u:\n",
    "    img = imread(f, True)\n",
    "    img_resized = resize(img, (50, 50))\n",
    "    data = np.array(img_resized)\n",
    "    data_reshaped = np.reshape(data, 50*50)\n",
    "    matrix_u.append(data_reshaped)\n",
    "\n",
    "matrix_H = []\n",
    "for f in file_list_H:\n",
    "    img = imread(f, True)\n",
    "    img_resized = resize(img, (50, 50))\n",
    "    data = np.array(img_resized)\n",
    "    data_reshaped = np.reshape(data, 50*50)\n",
    "    matrix_H.append(data_reshaped)"
   ]
  },
  {
   "cell_type": "markdown",
   "source": [
    "## Binary Classifiers"
   ],
   "metadata": {
    "collapsed": false
   },
   "id": "7a45372c2bacb4b3"
  },
  {
   "cell_type": "code",
   "execution_count": 5,
   "outputs": [],
   "source": [
    "from sklearn.linear_model import LogisticRegression\n",
    "from sklearn.model_selection import train_test_split"
   ],
   "metadata": {
    "collapsed": false,
    "ExecuteTime": {
     "end_time": "2023-09-29T00:07:12.492171Z",
     "start_time": "2023-09-29T00:07:12.253122Z"
    }
   },
   "id": "b90edeebbbcfcdd8"
  },
  {
   "cell_type": "code",
   "execution_count": 6,
   "outputs": [],
   "source": [
    "# Create the target sets for '4' and 'A'\n",
    "target_4 = ['4'] * len(matrix_4)\n",
    "target_A = ['A'] * len(matrix_A)\n",
    "\n",
    "# Concatenate the data and the target sets for '4' and 'A' into one big data / target set\n",
    "x = np.concatenate((matrix_4, matrix_A), axis=0)\n",
    "y = np.concatenate((target_4, target_A))\n",
    "\n",
    "# Split the data and target sets into training, testing, and validation sets\n",
    "# 70% will be training, 15% will be testing, and 15% will be validation\n",
    "x_train, x_combine, y_train, y_combine = train_test_split(x, y, train_size=0.7, random_state=3)\n",
    "x_test, x_val, y_test, y_val = train_test_split(x_combine, y_combine, test_size=0.5, random_state=3)\n",
    "\n",
    "# Create and train the classifier\n",
    "clf = LogisticRegression(max_iter=236)\n",
    "clf.fit(x_train, y_train)\n",
    "\n",
    "y_pred = clf.predict(x_test)"
   ],
   "metadata": {
    "collapsed": false,
    "ExecuteTime": {
     "end_time": "2023-09-29T00:07:12.826023Z",
     "start_time": "2023-09-29T00:07:12.496456Z"
    }
   },
   "id": "e0e6a584c79ea002"
  },
  {
   "cell_type": "markdown",
   "source": [
    "As can be seen above, we are splitting the dataset into the following:\n",
    "- 70% training set,\n",
    "- 15% testing set,\n",
    "- 15% validation set.\n",
    "\n",
    "Given that there are 605 images for '4' and 'A' combined, that gives us:\n",
    "- 423 images in the training set,\n",
    "- 91 images in the testing set,\n",
    "- 91 images in the validation set.\n",
    "\n",
    "The `train_test_split` function splits the set for me, however I have chosen to set the `random_state` to `3`. If the `random_state` is left at the default of `None`, it will generate a random integer each time, altering the results each time the code is run. So while the images for each set are being chosen randomly, they are consistently chosen across code executions."
   ],
   "metadata": {
    "collapsed": false
   },
   "id": "de283a67e52f85df"
  },
  {
   "cell_type": "code",
   "execution_count": 7,
   "outputs": [],
   "source": [
    "from sklearn.metrics import confusion_matrix\n",
    "import matplotlib.pyplot as plt\n",
    "import seaborn as sns"
   ],
   "metadata": {
    "collapsed": false,
    "ExecuteTime": {
     "end_time": "2023-09-29T00:07:12.839813Z",
     "start_time": "2023-09-29T00:07:12.827520Z"
    }
   },
   "id": "351b4796d7f6b360"
  },
  {
   "cell_type": "code",
   "execution_count": 8,
   "outputs": [
    {
     "data": {
      "text/plain": "<Figure size 640x480 with 2 Axes>",
      "image/png": "[encoded data removed]"
     },
     "metadata": {},
     "output_type": "display_data"
    }
   ],
   "source": [
    "cm = confusion_matrix(y_test, y_pred)\n",
    "\n",
    "# Plot the confusion matrix\n",
    "sns.heatmap(cm, annot=True, xticklabels=['4', 'A'], yticklabels=['4', 'A'])\n",
    "plt.title('Confusion Matrix')\n",
    "plt.xlabel('Actual')\n",
    "plt.ylabel('Prediction')\n",
    "plt.show()"
   ],
   "metadata": {
    "collapsed": false,
    "ExecuteTime": {
     "end_time": "2023-09-29T00:07:13.112643Z",
     "start_time": "2023-09-29T00:07:12.837327Z"
    }
   },
   "id": "5f2634ee599b8895"
  },
  {
   "cell_type": "code",
   "execution_count": 9,
   "outputs": [
    {
     "name": "stdout",
     "output_type": "stream",
     "text": [
      "Precision for 4: 0.3333333333333333\n",
      "Precision for A: 0.9882352941176471\n",
      "Recall for 4: 0.6666666666666666\n",
      "Recall for A: 0.9545454545454546\n"
     ]
    }
   ],
   "source": [
    "tp = cm[0][0]\n",
    "fp = cm[0][1]\n",
    "fn = cm[1][0]\n",
    "tn = cm[1][1]\n",
    "\n",
    "# Precision = TP / (TP + FP)\n",
    "precision_4 = tp / (tp + fp)\n",
    "precision_A = tn / (tn + fn)\n",
    "\n",
    "print('Precision for 4: ' + str(precision_4))\n",
    "print('Precision for A: ' + str(precision_A))\n",
    "\n",
    "# Recall = TP / (TP + FN)\n",
    "recall_4 = tp / (tp + fn)\n",
    "recall_A = tn / (tn + fp)\n",
    "\n",
    "print('Recall for 4: ' + str(recall_4))\n",
    "print('Recall for A: ' + str(recall_A))"
   ],
   "metadata": {
    "collapsed": false,
    "ExecuteTime": {
     "end_time": "2023-09-29T00:07:13.115685Z",
     "start_time": "2023-09-29T00:07:13.105904Z"
    }
   },
   "id": "61428dc2d9813abc"
  },
  {
   "cell_type": "code",
   "execution_count": 10,
   "outputs": [],
   "source": [
    "from sklearn.metrics import RocCurveDisplay"
   ],
   "metadata": {
    "collapsed": false,
    "ExecuteTime": {
     "end_time": "2023-09-29T00:07:13.125578Z",
     "start_time": "2023-09-29T00:07:13.115964Z"
    }
   },
   "id": "255fb0fd1ea349a7"
  },
  {
   "cell_type": "code",
   "execution_count": 11,
   "outputs": [
    {
     "data": {
      "text/plain": "<Figure size 640x480 with 1 Axes>",
      "image/png": "[encoded data removed]"
     },
     "metadata": {},
     "output_type": "display_data"
    }
   ],
   "source": [
    "# Create new arrays for test and pred where 4 = 1 and A = 0\n",
    "# This is necessary so that the ROC curve can be plotted properly\n",
    "\n",
    "roc_true = []\n",
    "for i in y_test:\n",
    "    if i == '4':\n",
    "        roc_true.append(1)\n",
    "    else:\n",
    "        roc_true.append(0)\n",
    "        \n",
    "roc_pred = []\n",
    "for i in y_pred:\n",
    "    if i == '4':\n",
    "        roc_pred.append(1)\n",
    "    else:\n",
    "        roc_pred.append(0)\n",
    "      \n",
    "# Plot the ROC curve  \n",
    "RocCurveDisplay.from_predictions(roc_true, roc_pred)\n",
    "plt.title('ROC Curve for 4 vs A')\n",
    "plt.xlabel('False Positive Rate for 4')\n",
    "plt.ylabel('True Positive Rate for 4')\n",
    "plt.show()"
   ],
   "metadata": {
    "collapsed": false,
    "ExecuteTime": {
     "end_time": "2023-09-29T00:07:13.403972Z",
     "start_time": "2023-09-29T00:07:13.125808Z"
    }
   },
   "id": "cedb1c985ee7fdc1"
  },
  {
   "cell_type": "markdown",
   "source": [
    "The precision and the recall for `A` are both very high. However, the precision and the recall for `4` are both pretty low: this is most likely due to the fact that out of the 91 images in the testing set, only 6 (less than 7%) are images of `4`. With such a low number, it means that the confusion matrix may not be as accurate as it could be if there was a testing set with a more even spread.\n",
    "\n",
    "The ROC curve has an area under the curve (AUC) of 0.66. The closer the AUC is to 1, the better the model. If the AUC is at or below 0.5, then it's no better than a model that makes random classifications. This linear regression classifier is decent, but could still use some work."
   ],
   "metadata": {
    "collapsed": false
   },
   "id": "bff9d2e906d7f8fc"
  },
  {
   "cell_type": "markdown",
   "source": [
    "## Multiclass Classifier\n",
    "### One-VS-One"
   ],
   "metadata": {
    "collapsed": false
   },
   "id": "620d1cf7c4e5f93b"
  },
  {
   "cell_type": "code",
   "execution_count": 12,
   "outputs": [],
   "source": [
    "from sklearn.multiclass import OneVsOneClassifier"
   ],
   "metadata": {
    "collapsed": false,
    "ExecuteTime": {
     "end_time": "2023-09-29T00:07:13.413933Z",
     "start_time": "2023-09-29T00:07:13.403013Z"
    }
   },
   "id": "1bbb23f493f31671"
  },
  {
   "cell_type": "code",
   "execution_count": 13,
   "outputs": [],
   "source": [
    "# Create the target sets for 'u' and 'H'\n",
    "target_u = ['u'] * len(matrix_u)\n",
    "target_H = ['H'] * len(matrix_H)\n",
    "\n",
    "# Concatenate the data and the target sets for '4', 'A', 'u', and 'H' into one big data / target set\n",
    "x = np.concatenate((matrix_4, matrix_A, matrix_u, matrix_H), axis=0)\n",
    "y = np.concatenate((target_4, target_A, target_u, target_H))\n",
    "\n",
    "# Split the data and target sets into training, testing, and validation sets\n",
    "# 70% will be training, 15% will be testing, and 15% will be validation\n",
    "x_train, x_combine, y_train, y_combine = train_test_split(x, y, train_size=0.7, random_state=3)\n",
    "x_test, x_val, y_test, y_val = train_test_split(x_combine, y_combine, test_size=0.5, random_state=3)\n",
    "\n",
    "# Create and train the classifier\n",
    "clf = LogisticRegression(max_iter=332)\n",
    "ovo = OneVsOneClassifier(clf)\n",
    "ovo.fit(x_train, y_train)\n",
    "\n",
    "y_pred = ovo.predict(x_test)"
   ],
   "metadata": {
    "collapsed": false,
    "ExecuteTime": {
     "end_time": "2023-09-29T00:07:14.594969Z",
     "start_time": "2023-09-29T00:07:13.411487Z"
    }
   },
   "id": "dd5961cf19f1c391"
  },
  {
   "cell_type": "markdown",
   "source": [
    "I use the same strategy to split the dataset in this question as in 1.2. \n",
    "\n",
    "We are splitting the dataset into the following:\n",
    "- 70% training set,\n",
    "- 15% testing set,\n",
    "- 15% validation set.\n",
    "\n",
    "Given that there are 839 images for all four characters combined, that gives us:\n",
    "- 587 images in the training set,\n",
    "- 126 images in the testing set,\n",
    "- 126 images in the validation set.\n",
    "\n",
    "Again, the `train_test_split` function splits the set for me, however I have chosen to set the `random_state` to `3`."
   ],
   "metadata": {
    "collapsed": false
   },
   "id": "555d8680aeb9c20"
  },
  {
   "cell_type": "code",
   "execution_count": 14,
   "outputs": [
    {
     "data": {
      "text/plain": "<Figure size 640x480 with 2 Axes>",
      "image/png": "[encoded data removed]"
     },
     "metadata": {},
     "output_type": "display_data"
    }
   ],
   "source": [
    "cm = confusion_matrix(y_test, y_pred)\n",
    "\n",
    "# Plot the confusion matrix\n",
    "sns.heatmap(cm, annot=True, xticklabels=['4', 'A', 'u', 'H'], yticklabels=['4', 'A', 'u', 'H'])\n",
    "plt.title('Confusion Matrix')\n",
    "plt.xlabel('Actual')\n",
    "plt.ylabel('Prediction')\n",
    "plt.show()"
   ],
   "metadata": {
    "collapsed": false,
    "ExecuteTime": {
     "end_time": "2023-09-29T00:07:14.888298Z",
     "start_time": "2023-09-29T00:07:14.598879Z"
    }
   },
   "id": "f6391bd8dcd6cfcf"
  },
  {
   "cell_type": "code",
   "execution_count": 15,
   "outputs": [
    {
     "name": "stdout",
     "output_type": "stream",
     "text": [
      "Precision for 4: 0.0\n",
      "Precision for A: 0.8351648351648352\n",
      "Precision for u: 0.38095238095238093\n",
      "Precision for H: 0.3333333333333333\n",
      "Average precision: 0.3873626373626374\n",
      "Recall for 4: 0.0\n",
      "Recall for A: 0.7835051546391752\n",
      "Recall for u: 0.3333333333333333\n",
      "Recall for H: 0.75\n",
      "Average recall: 0.2708333333333333\n",
      "F1 Score for 4: 0.0\n",
      "F1 Score for A: 0.8085106382978723\n",
      "F1 Score for u: 0.35555555555555557\n",
      "F1 Score for H: 0.46153846153846156\n",
      "Average F1 Score: 0.4064011638479723\n"
     ]
    }
   ],
   "source": [
    "tp_4 = cm[0][0]\n",
    "fp_4 = cm[0][1] + cm[0][2] + cm[0][3]\n",
    "fn_4 = cm[1][0] + cm[2][0] + cm[3][0]\n",
    "\n",
    "tp_A = cm[1][1]\n",
    "fp_A = cm[1][0] + cm[1][2] + cm[1][3]\n",
    "fn_A = cm[0][1] + cm[2][1] + cm[3][1]\n",
    "\n",
    "tp_u = cm[2][2]\n",
    "fp_u = cm[2][0] + cm[2][1] + cm[2][3]\n",
    "fn_u = cm[0][2] + cm[1][2] + cm[3][2]\n",
    "\n",
    "tp_H = cm[3][3]\n",
    "fp_H = cm[3][0] + cm[3][1] + cm[3][2]\n",
    "fn_H = cm[0][3] + cm[1][3] + cm[2][3]\n",
    "\n",
    "# Precision = TP / (TP + FP)\n",
    "precision_4 = tp_4 / (tp_4 + fp_4)\n",
    "precision_A = tp_A / (tp_A + fp_A)\n",
    "precision_u = tp_u / (tp_u + fp_u)\n",
    "precision_H = tp_H / (tp_H + fp_H)\n",
    "average_precision = (precision_4 + precision_A + precision_u + precision_H) / 4\n",
    "\n",
    "print('Precision for 4: ' + str(precision_4))\n",
    "print('Precision for A: ' + str(precision_A))\n",
    "print('Precision for u: ' + str(precision_u))\n",
    "print('Precision for H: ' + str(precision_H))\n",
    "print('Average precision: ' + str(average_precision))\n",
    "\n",
    "# Recall = TP / (TP + FN)\n",
    "recall_4 = tp_4 / (tp_4 + fn_4)\n",
    "recall_A = tp_A / (tp_A + fn_A)\n",
    "recall_u = tp_u / (tp_u + fn_u)\n",
    "recall_H = tp_H / (tp_H + fn_H)\n",
    "average_recall = (recall_4 + recall_4 + recall_u + recall_H) / 4\n",
    "\n",
    "print('Recall for 4: ' + str(recall_4))\n",
    "print('Recall for A: ' + str(recall_A))\n",
    "print('Recall for u: ' + str(recall_u))\n",
    "print('Recall for H: ' + str(recall_H))\n",
    "print('Average recall: ' + str(average_recall))\n",
    "\n",
    "# F1 Score = 2TP / (2TP + FP + FN)\n",
    "f1_4 = (2 * tp_4) / (2 * tp_4 + fp_4 + fn_4)\n",
    "f1_A = (2 * tp_A) / (2 * tp_A + fp_A + fn_A)\n",
    "f1_u = (2 * tp_u) / (2 * tp_u + fp_u + fn_u)\n",
    "f1_H = (2 * tp_H) / (2 * tp_H + fp_H + fn_H)\n",
    "average_f1 = (f1_4 + f1_A + f1_u + f1_H) / 4\n",
    "\n",
    "print('F1 Score for 4: ' + str(f1_4))\n",
    "print('F1 Score for A: ' + str(f1_A))\n",
    "print('F1 Score for u: ' + str(f1_u))\n",
    "print('F1 Score for H: ' + str(f1_H))\n",
    "print('Average F1 Score: ' + str(average_f1))"
   ],
   "metadata": {
    "collapsed": false,
    "ExecuteTime": {
     "end_time": "2023-09-29T00:07:14.899525Z",
     "start_time": "2023-09-29T00:07:14.881461Z"
    }
   },
   "id": "e618ff1b3681769a"
  },
  {
   "cell_type": "markdown",
   "source": [
    "By far the worst class for this classifier is `4`. The precision, recall, and F1 score are all at 0.0. Like in question 1.2, it performs the best on the `A` class, with sub-average results for the `u` and `H` classes. Surprisingly, the recall for `H` is quite high at 0.75, but that doesn't mean much when the precision is at 0.333. Models should strive to have both precision and recall (and therefore F1 score) high.\n",
    "\n",
    "The average for all the metrics is very low, most likely due to the fact that `4` scored a 0.0 across all metrics and is bringing the average very down. Most of the issues lie in the dataset - out of the 126 images in the testing set, 97 of them (over 76%) of them were images of class `A`."
   ],
   "metadata": {
    "collapsed": false
   },
   "id": "35feb08121d5c604"
  },
  {
   "cell_type": "markdown",
   "source": [
    "### One-VS-All"
   ],
   "metadata": {
    "collapsed": false
   },
   "id": "4f8fc8596c3ab099"
  },
  {
   "cell_type": "code",
   "execution_count": 16,
   "outputs": [],
   "source": [
    "from sklearn.multiclass import OneVsRestClassifier"
   ],
   "metadata": {
    "collapsed": false,
    "ExecuteTime": {
     "end_time": "2023-09-29T00:07:14.959663Z",
     "start_time": "2023-09-29T00:07:14.900020Z"
    }
   },
   "id": "99395832ddd0673e"
  },
  {
   "cell_type": "code",
   "execution_count": 17,
   "outputs": [],
   "source": [
    "# Create the target sets for 'u' and 'H'\n",
    "target_u = ['u'] * len(matrix_u)\n",
    "target_H = ['H'] * len(matrix_H)\n",
    "\n",
    "# Concatenate the data and the target sets for '4', 'A', 'u', and 'H' into one big data / target set\n",
    "x = np.concatenate((matrix_4, matrix_A, matrix_u, matrix_H), axis=0)\n",
    "y = np.concatenate((target_4, target_A, target_u, target_H))\n",
    "\n",
    "# Split the data and target sets into training, testing, and validation sets\n",
    "# 70% will be training, 15% will be testing, and 15% will be validation\n",
    "x_train, x_combine, y_train, y_combine = train_test_split(x, y, train_size=0.7, random_state=3)\n",
    "x_test, x_val, y_test, y_val = train_test_split(x_combine, y_combine, test_size=0.5, random_state=3)\n",
    "\n",
    "# Create and train the classifier\n",
    "clf = LogisticRegression(max_iter=332)\n",
    "ovr = OneVsRestClassifier(clf)\n",
    "ovr.fit(x_train, y_train)\n",
    "\n",
    "y_pred = ovr.predict(x_test)"
   ],
   "metadata": {
    "collapsed": false,
    "ExecuteTime": {
     "end_time": "2023-09-29T00:07:16.404011Z",
     "start_time": "2023-09-29T00:07:14.907922Z"
    }
   },
   "id": "aa520740d358f3c7"
  },
  {
   "cell_type": "markdown",
   "source": [
    "I use the same strategy to split the dataset in this question as above. \n",
    "\n",
    "We are splitting the dataset into the following:\n",
    "- 70% training set,\n",
    "- 15% testing set,\n",
    "- 15% validation set.\n",
    "\n",
    "Given that there are 839 images for all four characters combined, that gives us:\n",
    "- 587 images in the training set,\n",
    "- 126 images in the testing set,\n",
    "- 126 images in the validation set.\n",
    "\n",
    "Again, the `train_test_split` function splits the set for me, however I have chosen to set the `random_state` to `3`."
   ],
   "metadata": {
    "collapsed": false
   },
   "id": "a613271f8d7aea36"
  },
  {
   "cell_type": "code",
   "execution_count": 18,
   "outputs": [
    {
     "data": {
      "text/plain": "<Figure size 640x480 with 2 Axes>",
      "image/png": "[encoded data removed]"
     },
     "metadata": {},
     "output_type": "display_data"
    }
   ],
   "source": [
    "cm = confusion_matrix(y_test, y_pred)\n",
    "\n",
    "# Plot the confusion matrix\n",
    "sns.heatmap(cm, annot=True, xticklabels=['4', 'A', 'u', 'H'], yticklabels=['4', 'A', 'u', 'H'])\n",
    "plt.title('Confusion Matrix')\n",
    "plt.xlabel('Actual')\n",
    "plt.ylabel('Prediction')\n",
    "plt.show()"
   ],
   "metadata": {
    "collapsed": false,
    "ExecuteTime": {
     "end_time": "2023-09-29T00:07:16.691386Z",
     "start_time": "2023-09-29T00:07:16.406731Z"
    }
   },
   "id": "a5aece28e224c708"
  },
  {
   "cell_type": "code",
   "execution_count": 19,
   "outputs": [
    {
     "name": "stdout",
     "output_type": "stream",
     "text": [
      "Precision for 4: 0.0\n",
      "Precision for A: 0.8571428571428571\n",
      "Precision for u: 0.2857142857142857\n",
      "Precision for H: 0.3333333333333333\n",
      "Average precision: 0.369047619047619\n",
      "Recall for 4: 0.0\n",
      "Recall for A: 0.78\n",
      "Recall for u: 0.2857142857142857\n",
      "Recall for H: 1.0\n",
      "Average recall: 0.3214285714285714\n",
      "F1 Score for 4: 0.0\n",
      "F1 Score for A: 0.8167539267015707\n",
      "F1 Score for u: 0.2857142857142857\n",
      "F1 Score for H: 0.5\n",
      "Average F1 Score: 0.4006170531039641\n"
     ]
    }
   ],
   "source": [
    "tp_4 = cm[0][0]\n",
    "fp_4 = cm[0][1] + cm[0][2] + cm[0][3]\n",
    "fn_4 = cm[1][0] + cm[2][0] + cm[3][0]\n",
    "\n",
    "tp_A = cm[1][1]\n",
    "fp_A = cm[1][0] + cm[1][2] + cm[1][3]\n",
    "fn_A = cm[0][1] + cm[2][1] + cm[3][1]\n",
    "\n",
    "tp_u = cm[2][2]\n",
    "fp_u = cm[2][0] + cm[2][1] + cm[2][3]\n",
    "fn_u = cm[0][2] + cm[1][2] + cm[3][2]\n",
    "\n",
    "tp_H = cm[3][3]\n",
    "fp_H = cm[3][0] + cm[3][1] + cm[3][2]\n",
    "fn_H = cm[0][3] + cm[1][3] + cm[2][3]\n",
    "\n",
    "# Precision = TP / (TP + FP)\n",
    "precision_4 = tp_4 / (tp_4 + fp_4)\n",
    "precision_A = tp_A / (tp_A + fp_A)\n",
    "precision_u = tp_u / (tp_u + fp_u)\n",
    "precision_H = tp_H / (tp_H + fp_H)\n",
    "average_precision = (precision_4 + precision_A + precision_u + precision_H) / 4\n",
    "\n",
    "print('Precision for 4: ' + str(precision_4))\n",
    "print('Precision for A: ' + str(precision_A))\n",
    "print('Precision for u: ' + str(precision_u))\n",
    "print('Precision for H: ' + str(precision_H))\n",
    "print('Average precision: ' + str(average_precision))\n",
    "\n",
    "# Recall = TP / (TP + FN)\n",
    "recall_4 = tp_4 / (tp_4 + fn_4)\n",
    "recall_A = tp_A / (tp_A + fn_A)\n",
    "recall_u = tp_u / (tp_u + fn_u)\n",
    "recall_H = tp_H / (tp_H + fn_H)\n",
    "average_recall = (recall_4 + recall_4 + recall_u + recall_H) / 4\n",
    "\n",
    "print('Recall for 4: ' + str(recall_4))\n",
    "print('Recall for A: ' + str(recall_A))\n",
    "print('Recall for u: ' + str(recall_u))\n",
    "print('Recall for H: ' + str(recall_H))\n",
    "print('Average recall: ' + str(average_recall))\n",
    "\n",
    "# F1 Score = 2TP / (2TP + FP + FN)\n",
    "f1_4 = (2 * tp_4) / (2 * tp_4 + fp_4 + fn_4)\n",
    "f1_A = (2 * tp_A) / (2 * tp_A + fp_A + fn_A)\n",
    "f1_u = (2 * tp_u) / (2 * tp_u + fp_u + fn_u)\n",
    "f1_H = (2 * tp_H) / (2 * tp_H + fp_H + fn_H)\n",
    "average_f1 = (f1_4 + f1_A + f1_u + f1_H) / 4\n",
    "\n",
    "print('F1 Score for 4: ' + str(f1_4))\n",
    "print('F1 Score for A: ' + str(f1_A))\n",
    "print('F1 Score for u: ' + str(f1_u))\n",
    "print('F1 Score for H: ' + str(f1_H))\n",
    "print('Average F1 Score: ' + str(average_f1))"
   ],
   "metadata": {
    "collapsed": false,
    "ExecuteTime": {
     "end_time": "2023-09-29T00:07:16.713876Z",
     "start_time": "2023-09-29T00:07:16.704724Z"
    }
   },
   "id": "f29568e6c61c452f"
  },
  {
   "cell_type": "markdown",
   "source": [
    "Yet again, class `A` performs the best in all metrics and `4` receives a 0.0 in everything. The recall for `H` shot up to a 1.0, boosting its F1 score to 0.5. Many of the issues that this model is coming across is for the same reasons as the previous two in this assignment: the dataset. It seems to get really confused on what a `4` looks like, never guessing correctly, but it's able to classify most of the `A`s correctly."
   ],
   "metadata": {
    "collapsed": false
   },
   "id": "fb61a618f31580bf"
  }
 ],
 "metadata": {
  "kernelspec": {
   "display_name": "Python 3 (ipykernel)",
   "language": "python",
   "name": "python3"
  },
  "language_info": {
   "codemirror_mode": {
    "name": "ipython",
    "version": 3
   },
   "file_extension": ".py",
   "mimetype": "text/x-python",
   "name": "python",
   "nbconvert_exporter": "python",
   "pygments_lexer": "ipython3",
   "version": "3.11.4"
  }
 },
 "nbformat": 4,
 "nbformat_minor": 5
}
