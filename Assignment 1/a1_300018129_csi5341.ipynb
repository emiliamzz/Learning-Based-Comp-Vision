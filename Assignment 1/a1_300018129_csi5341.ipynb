{
 "cells": [
  {
   "cell_type": "markdown",
   "id": "9035b70252828a64",
   "metadata": {},
   "source": [
    "# Assignment 1\n",
    "Emilia Zielinska <br>\n",
    "300018129 <br>\n",
    "CSI 5341 <br>\n",
    "Dr. Jochen Lang <br>\n",
    "September 28, 2023"
   ]
  },
  {
   "cell_type": "markdown",
   "id": "f42e5c8bddede34a",
   "metadata": {},
   "source": [
    "## Getting Started"
   ]
  },
  {
   "cell_type": "code",
   "execution_count": 1,
   "id": "200e4ba6126d71fc",
   "metadata": {
    "ExecuteTime": {
     "end_time": "2023-09-28T22:15:38.003016Z",
     "start_time": "2023-09-28T22:15:37.999600Z"
    }
   },
   "outputs": [],
   "source": [
    "from pathlib import Path"
   ]
  },
  {
   "cell_type": "code",
   "execution_count": 2,
   "id": "923124f2c3901dfc",
   "metadata": {
    "ExecuteTime": {
     "end_time": "2023-09-28T22:15:38.055464Z",
     "start_time": "2023-09-28T22:15:38.005834Z"
    }
   },
   "outputs": [],
   "source": [
    "# Generate lists of filenames for the needed images\n",
    "\n",
    "directory_4 = Path(\"./English/Img/GoodImg/Bmp/Sample005\")\n",
    "directory_A = Path(\"./English/Img/GoodImg/Bmp/Sample011\")\n",
    "directory_u = Path(\"./English/Img/GoodImg/Bmp/Sample057\")\n",
    "directory_H = Path(\"./English/Img/GoodImg/Bmp/Sample018\")\n",
    "\n",
    "file_list_4 = [f for f in directory_4.glob('**/*') if f.is_file()]\n",
    "file_list_A = [f for f in directory_A.glob('**/*') if f.is_file()]\n",
    "file_list_u = [f for f in directory_u.glob('**/*') if f.is_file()]\n",
    "file_list_H = [f for f in directory_H.glob('**/*') if f.is_file()]"
   ]
  },
  {
   "cell_type": "code",
   "execution_count": 3,
   "id": "2503e8dbc967ef5d",
   "metadata": {
    "ExecuteTime": {
     "end_time": "2023-09-28T22:15:38.520920Z",
     "start_time": "2023-09-28T22:15:38.058970Z"
    }
   },
   "outputs": [],
   "source": [
    "import numpy as np\n",
    "from skimage.io import imread\n",
    "from skimage.transform import resize"
   ]
  },
  {
   "cell_type": "code",
   "execution_count": 4,
   "id": "78272500d9e59125",
   "metadata": {
    "ExecuteTime": {
     "end_time": "2023-09-28T22:15:39.966025Z",
     "start_time": "2023-09-28T22:15:38.527287Z"
    }
   },
   "outputs": [],
   "source": [
    "# Preprocess each image by turning it grayscale and resizing to 50 by 50\n",
    "# Reshape the data of each image to be in a 1D array\n",
    "# Then save image into numpy matrix // 2D array\n",
    "\n",
    "matrix_4 = []\n",
    "for f in file_list_4:\n",
    "    img = imread(f, True)\n",
    "    img_resized = resize(img, (50, 50))\n",
    "    data = np.array(img_resized)\n",
    "    data_reshaped = np.reshape(data, 50*50)\n",
    "    matrix_4.append(data_reshaped)\n",
    "\n",
    "matrix_A = []\n",
    "for f in file_list_A:\n",
    "    img = imread(f, True)\n",
    "    img_resized = resize(img, (50, 50))\n",
    "    data = np.array(img_resized)\n",
    "    data_reshaped = np.reshape(data, 50*50)\n",
    "    matrix_A.append(data_reshaped)\n",
    "\n",
    "matrix_u = []\n",
    "for f in file_list_u:\n",
    "    img = imread(f, True)\n",
    "    img_resized = resize(img, (50, 50))\n",
    "    data = np.array(img_resized)\n",
    "    data_reshaped = np.reshape(data, 50*50)\n",
    "    matrix_u.append(data_reshaped)\n",
    "\n",
    "matrix_H = []\n",
    "for f in file_list_H:\n",
    "    img = imread(f, True)\n",
    "    img_resized = resize(img, (50, 50))\n",
    "    data = np.array(img_resized)\n",
    "    data_reshaped = np.reshape(data, 50*50)\n",
    "    matrix_H.append(data_reshaped)"
   ]
  },
  {
   "cell_type": "markdown",
   "source": [
    "## Binary Classifiers"
   ],
   "metadata": {
    "collapsed": false
   },
   "id": "7a45372c2bacb4b3"
  },
  {
   "cell_type": "code",
   "execution_count": 5,
   "outputs": [],
   "source": [
    "from sklearn.linear_model import LogisticRegression\n",
    "from sklearn.model_selection import train_test_split"
   ],
   "metadata": {
    "collapsed": false,
    "ExecuteTime": {
     "end_time": "2023-09-28T22:15:40.335721Z",
     "start_time": "2023-09-28T22:15:39.967657Z"
    }
   },
   "id": "b90edeebbbcfcdd8"
  },
  {
   "cell_type": "code",
   "execution_count": 6,
   "outputs": [
    {
     "name": "stderr",
     "output_type": "stream",
     "text": [
      "/Users/emiliazielinska/anaconda3/lib/python3.11/site-packages/sklearn/linear_model/_logistic.py:460: ConvergenceWarning: lbfgs failed to converge (status=1):\n",
      "STOP: TOTAL NO. of ITERATIONS REACHED LIMIT.\n",
      "\n",
      "Increase the number of iterations (max_iter) or scale the data as shown in:\n",
      "    https://scikit-learn.org/stable/modules/preprocessing.html\n",
      "Please also refer to the documentation for alternative solver options:\n",
      "    https://scikit-learn.org/stable/modules/linear_model.html#logistic-regression\n",
      "  n_iter_i = _check_optimize_result(\n"
     ]
    }
   ],
   "source": [
    "# Create the target sets for '4' and 'A'\n",
    "target_4 = ['4'] * len(matrix_4)\n",
    "target_A = ['A'] * len(matrix_A)\n",
    "\n",
    "# Concatenate the data and the target sets for '4' and 'A' into one big data / target set\n",
    "x = np.concatenate((matrix_4, matrix_A), axis=0)\n",
    "y = np.concatenate((target_4, target_A))\n",
    "\n",
    "# Split the data and target sets into training, testing, and validation sets\n",
    "# 70% will be training, 15% will be testing, and 15% will be validation\n",
    "x_train, x_combine, y_train, y_combine = train_test_split(x, y, train_size=0.7, random_state=3)\n",
    "x_test, x_val, y_test, y_val = train_test_split(x_combine, y_combine, test_size=0.5, random_state=3)\n",
    "\n",
    "# Create and train the classifier\n",
    "clf = LogisticRegression()\n",
    "clf.fit(x_train, y_train)\n",
    "\n",
    "y_pred = clf.predict(x_test)"
   ],
   "metadata": {
    "collapsed": false,
    "ExecuteTime": {
     "end_time": "2023-09-28T22:15:40.458856Z",
     "start_time": "2023-09-28T22:15:40.341553Z"
    }
   },
   "id": "e0e6a584c79ea002"
  },
  {
   "cell_type": "markdown",
   "source": [
    "As can be seen above, we are splitting the dataset into the following:\n",
    "- 70% training set,\n",
    "- 15% testing set,\n",
    "- 15% validation set.\n",
    "\n",
    "Given that there are 605 images for '4' and 'A' combined, that gives us:\n",
    "- 423 images in the training set,\n",
    "- 91 images in the testing set,\n",
    "- 91 images in the validation set.\n",
    "\n",
    "The `train_test_split` function splits the set for me, however I have chosen to set the `random_state` to `3`. If the `random_state` is left at the default of `None`, it will generate a random integer each time, altering the results each time the code is run. So while the images for each set are being chosen randomly, they are consistently chosen across code executions."
   ],
   "metadata": {
    "collapsed": false
   },
   "id": "de283a67e52f85df"
  },
  {
   "cell_type": "code",
   "execution_count": 7,
   "outputs": [],
   "source": [
    "from sklearn.metrics import confusion_matrix\n",
    "import matplotlib.pyplot as plt\n",
    "import seaborn as sns"
   ],
   "metadata": {
    "collapsed": false,
    "ExecuteTime": {
     "end_time": "2023-09-28T22:15:40.460Z",
     "start_time": "2023-09-28T22:15:40.457465Z"
    }
   },
   "id": "351b4796d7f6b360"
  },
  {
   "cell_type": "code",
   "execution_count": 8,
   "outputs": [
    {
     "data": {
      "text/plain": "<Figure size 640x480 with 2 Axes>",
      "image/png": "[encoded data removed]"
     },
     "metadata": {},
     "output_type": "display_data"
    }
   ],
   "source": [
    "cm = confusion_matrix(y_test, y_pred)\n",
    "\n",
    "# Plot the confusion matrix\n",
    "sns.heatmap(cm, annot=True, xticklabels=['4', 'A'], yticklabels=['4', 'A'])\n",
    "plt.title('Confusion Matrix')\n",
    "plt.xlabel('Actual')\n",
    "plt.ylabel('Prediction')\n",
    "plt.show()"
   ],
   "metadata": {
    "collapsed": false,
    "ExecuteTime": {
     "end_time": "2023-09-28T22:15:40.663012Z",
     "start_time": "2023-09-28T22:15:40.463165Z"
    }
   },
   "id": "5f2634ee599b8895"
  },
  {
   "cell_type": "code",
   "execution_count": 9,
   "outputs": [
    {
     "name": "stdout",
     "output_type": "stream",
     "text": [
      "Precision for 4: 0.3333333333333333\n",
      "Precision for A: 0.9882352941176471\n",
      "Recall for 4: 0.6666666666666666\n",
      "Recall for A: 0.9545454545454546\n"
     ]
    }
   ],
   "source": [
    "tp = cm[0][0]\n",
    "fp = cm[0][1]\n",
    "fn = cm[1][0]\n",
    "tn = cm[1][1]\n",
    "\n",
    "# Precision = TP / (TP + FP)\n",
    "precision_4 = tp / (tp + fp)\n",
    "precision_A = tn / (tn + fn)\n",
    "\n",
    "print('Precision for 4: ' + str(precision_4))\n",
    "print('Precision for A: ' + str(precision_A))\n",
    "\n",
    "# Recall = TP / (TP + FN)\n",
    "recall_4 = tp / (tp + fn)\n",
    "recall_A = tn / (tn + fp)\n",
    "\n",
    "print('Recall for 4: ' + str(recall_4))\n",
    "print('Recall for A: ' + str(recall_A))"
   ],
   "metadata": {
    "collapsed": false,
    "ExecuteTime": {
     "end_time": "2023-09-28T22:15:40.669973Z",
     "start_time": "2023-09-28T22:15:40.663622Z"
    }
   },
   "id": "61428dc2d9813abc"
  },
  {
   "cell_type": "code",
   "execution_count": 10,
   "outputs": [],
   "source": [
    "from sklearn.metrics import RocCurveDisplay"
   ],
   "metadata": {
    "collapsed": false,
    "ExecuteTime": {
     "end_time": "2023-09-28T22:15:40.676301Z",
     "start_time": "2023-09-28T22:15:40.669863Z"
    }
   },
   "id": "255fb0fd1ea349a7"
  },
  {
   "cell_type": "code",
   "execution_count": 11,
   "outputs": [
    {
     "data": {
      "text/plain": "<Figure size 640x480 with 1 Axes>",
      "image/png": "[encoded data removed]"
     },
     "metadata": {},
     "output_type": "display_data"
    }
   ],
   "source": [
    "# Create new arrays for test and pred where 4 = 1 and A = 0\n",
    "# This is necessary so that the ROC curve can be plotted properly\n",
    "\n",
    "roc_true = []\n",
    "for i in y_test:\n",
    "    if i == '4':\n",
    "        roc_true.append(1)\n",
    "    else:\n",
    "        roc_true.append(0)\n",
    "        \n",
    "roc_pred = []\n",
    "for i in y_pred:\n",
    "    if i == '4':\n",
    "        roc_pred.append(1)\n",
    "    else:\n",
    "        roc_pred.append(0)\n",
    "      \n",
    "# Plot the ROC curve  \n",
    "RocCurveDisplay.from_predictions(roc_true, roc_pred)\n",
    "plt.title('ROC Curve for 4 vs A')\n",
    "plt.xlabel('False Positive Rate for 4')\n",
    "plt.ylabel('True Positive Rate for 4')\n",
    "plt.show()"
   ],
   "metadata": {
    "collapsed": false,
    "ExecuteTime": {
     "end_time": "2023-09-28T22:15:40.867448Z",
     "start_time": "2023-09-28T22:15:40.673753Z"
    }
   },
   "id": "cedb1c985ee7fdc1"
  },
  {
   "cell_type": "markdown",
   "source": [],
   "metadata": {
    "collapsed": false
   },
   "id": "f69a60b341b13807"
  },
  {
   "cell_type": "markdown",
   "source": [
    "The precision and the recall for `A` are both very high. However, the precision and the recall for `4` are both pretty low: this is most likely due to the fact that out of the 91 images in the testing set, only 6 (less than 7%) are images of `4`. With such a low number, it means that the confusion matrix may not be as accurate as it could be if there was a testing set with a more even spread.\n",
    "\n",
    "The ROC curve has an area under the curve (AUC) of 0.66. The closer the AUC is to 1, the better the model. If the AUC is at or below 0.5, then it's no better than a model that makes random classifications. This linear regression classifier is decent, but could still use some work."
   ],
   "metadata": {
    "collapsed": false
   },
   "id": "bff9d2e906d7f8fc"
  }
 ],
 "metadata": {
  "kernelspec": {
   "display_name": "Python 3 (ipykernel)",
   "language": "python",
   "name": "python3"
  },
  "language_info": {
   "codemirror_mode": {
    "name": "ipython",
    "version": 3
   },
   "file_extension": ".py",
   "mimetype": "text/x-python",
   "name": "python",
   "nbconvert_exporter": "python",
   "pygments_lexer": "ipython3",
   "version": "3.11.4"
  }
 },
 "nbformat": 4,
 "nbformat_minor": 5
}
